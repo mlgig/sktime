{
 "cells": [
  {
   "cell_type": "code",
   "execution_count": 1,
   "metadata": {},
   "outputs": [],
   "source": [
    "from sktime.datasets import load_gunpoint\n",
    "from sktime.classifiers.shapelet_based import MrSQMClassifier\n",
    "from sklearn import metrics\n",
    "import numpy as np"
   ]
  },
  {
   "cell_type": "code",
   "execution_count": 2,
   "metadata": {},
   "outputs": [],
   "source": [
    "ds='ShapesAll'\n",
    "ds_dir = '/home/thachln/myworkdir/UCR_TS_Archive_2015/'\n",
    "# ds_dir = '/home/thachln/myworkdir/Mr-SEQL/data/CMJ/'\n",
    "\n",
    "train_file = ds_dir + ds + '/' + ds + '_TRAIN' \n",
    "test_file = ds_dir + ds + '/' + ds + '_TEST' \n",
    "\n",
    "# load train data\n",
    "train_data = np.genfromtxt(train_file,delimiter=',')\n",
    "X_train = train_data[:,1:]\n",
    "y_train = train_data[:,0]\n",
    "\n",
    "test_data = np.genfromtxt(test_file,delimiter=',')\n",
    "X_test = test_data[:,1:]\n",
    "y_test = test_data[:,0]\n"
   ]
  },
  {
   "cell_type": "code",
   "execution_count": 3,
   "metadata": {},
   "outputs": [
    {
     "name": "stdout",
     "output_type": "stream",
     "text": [
      "Accuracy with mr-sqm: 0.817\n"
     ]
    }
   ],
   "source": [
    "# Create mrseql object\n",
    "# ms = MrSQMClassifier(selection = 40,symrepconfig = [{'method':'sax','window':60,'word':16,'alphabet':4}])\n",
    "ms = MrSQMClassifier(selection = 1000)\n",
    "\n",
    "# fit training data\n",
    "ms.fit(X_train,y_train)\n",
    "\n",
    "\n",
    "# prediction\n",
    "predicted = ms.predict(X_test)\n",
    "\n",
    "# Classification accuracy\n",
    "print(\"Accuracy with mr-sqm: %2.3f\" % metrics.accuracy_score(y_test, predicted))"
   ]
  },
  {
   "cell_type": "code",
   "execution_count": null,
   "metadata": {},
   "outputs": [],
   "source": [
    "ms.sequences"
   ]
  },
  {
   "cell_type": "code",
   "execution_count": null,
   "metadata": {},
   "outputs": [],
   "source": [
    "ms.sequences"
   ]
  },
  {
   "cell_type": "markdown",
   "metadata": {},
   "source": [
    "Mr-SQM vs Mr-SEQL"
   ]
  },
  {
   "cell_type": "code",
   "execution_count": null,
   "metadata": {},
   "outputs": [],
   "source": [
    "import pandas as pd\n",
    "\n"
   ]
  },
  {
   "cell_type": "code",
   "execution_count": null,
   "metadata": {},
   "outputs": [],
   "source": [
    "sqm_df = pd.read_csv('~/myworkdir/csv/mr_sqm_exp2.csv').round(decimals=3)\n",
    "seql_df = pd.read_csv('~/myworkdir/csv/UCR_mrseql_results.csv')\n",
    "full_df = pd.merge(sqm_df, seql_df, on='Dataset')"
   ]
  },
  {
   "cell_type": "code",
   "execution_count": null,
   "metadata": {},
   "outputs": [],
   "source": [
    "import os\n",
    "rootdir = '/home/thachln/myworkdir/UCR_TS_Archive_2015/'\n",
    "\n",
    "for ds in os.listdir(rootdir):\n",
    "    data = np.genfromtxt(rootdir + ds + '/' + ds + '_TRAIN', delimiter=',')\n",
    "    y = data[:,0]\n",
    "    n = len(y)\n",
    "    H = 0\n",
    "    for ci in np.unique(y):        \n",
    "        p = np.sum(y == ci)/n\n",
    "        H += p*np.log(p)\n",
    "    bl = -H/np.log(len(np.unique(y)))\n",
    "    print(ds + ',' + str(bl))\n",
    "    \n",
    "    "
   ]
  },
  {
   "cell_type": "code",
   "execution_count": null,
   "metadata": {},
   "outputs": [],
   "source": [
    "full_df[full_df['Dataset'] == 'Beef']"
   ]
  },
  {
   "cell_type": "code",
   "execution_count": null,
   "metadata": {},
   "outputs": [],
   "source": [
    "y"
   ]
  },
  {
   "cell_type": "code",
   "execution_count": null,
   "metadata": {},
   "outputs": [],
   "source": [
    "def chi2(ob1,ob2):   \n",
    "    ep1 = (ob1 + ob2)*0.4\n",
    "    ep2 = (ob1 + ob2)*0.6\n",
    "    return ((ob1 - ep1)**2/ep1 + (ob2 - ep2)**2/ep2)"
   ]
  },
  {
   "cell_type": "code",
   "execution_count": null,
   "metadata": {},
   "outputs": [],
   "source": [
    "ob1 = 3\n",
    "ob2 = 2\n",
    "print(chi2(ob1,ob2))\n",
    "print(chi2(ob1,0))\n",
    "print(chi2(0,ob2))\n",
    "\n"
   ]
  },
  {
   "cell_type": "code",
   "execution_count": 4,
   "metadata": {},
   "outputs": [
    {
     "data": {
      "text/plain": [
       "['WordsSynonyms',\n",
       " 'MoteStrain',\n",
       " 'Wine',\n",
       " 'Car',\n",
       " 'Computers',\n",
       " 'Two_Patterns',\n",
       " 'StarLightCurves',\n",
       " 'SmallKitchenAppliances',\n",
       " 'FaceAll',\n",
       " 'TwoLeadECG',\n",
       " 'ECGFiveDays',\n",
       " 'InlineSkate',\n",
       " 'FacesUCR',\n",
       " '50words',\n",
       " 'ScreenType',\n",
       " 'Cricket_X',\n",
       " 'Strawberry',\n",
       " 'DistalPhalanxTW',\n",
       " 'PhalangesOutlinesCorrect',\n",
       " 'MiddlePhalanxOutlineAgeGroup',\n",
       " 'uWaveGestureLibrary_X',\n",
       " 'ToeSegmentation2',\n",
       " 'CBF',\n",
       " 'wafer',\n",
       " 'Ham',\n",
       " 'FordB',\n",
       " 'ChlorineConcentration',\n",
       " 'ProximalPhalanxOutlineCorrect',\n",
       " 'Trace',\n",
       " 'Passgraph',\n",
       " 'Lighting7',\n",
       " 'UWaveGestureLibraryAll',\n",
       " 'ProximalPhalanxTW',\n",
       " 'WormsTwoClass',\n",
       " 'ShapesAll',\n",
       " 'OliveOil',\n",
       " 'Cricket_Z',\n",
       " 'Plane',\n",
       " 'LargeKitchenAppliances',\n",
       " 'DistalPhalanxOutlineCorrect',\n",
       " 'ECG5000',\n",
       " 'synthetic_control',\n",
       " 'Phoneme',\n",
       " 'NonInvasiveFatalECG_Thorax1',\n",
       " 'ItalyPowerDemand',\n",
       " 'RefrigerationDevices',\n",
       " 'NonInvasiveFatalECG_Thorax2',\n",
       " 'InsectWingbeatSound',\n",
       " 'BeetleFly',\n",
       " 'MALLAT',\n",
       " 'BirdChicken',\n",
       " 'Symbols',\n",
       " 'ArrowHead',\n",
       " 'Adiac',\n",
       " 'CinC_ECG_torso',\n",
       " 'Lighting2',\n",
       " 'Herring',\n",
       " 'HandOutlines',\n",
       " 'Gun_Point',\n",
       " 'Worms',\n",
       " 'ShapeletSim',\n",
       " 'FaceFour',\n",
       " 'MiddlePhalanxOutlineCorrect',\n",
       " 'MedicalImages',\n",
       " 'ToeSegmentation1',\n",
       " 'ECG200',\n",
       " 'Haptics',\n",
       " 'uWaveGestureLibrary_Z',\n",
       " 'MiddlePhalanxTW',\n",
       " 'SonyAIBORobotSurfaceII',\n",
       " 'uWaveGestureLibrary_Y',\n",
       " 'DiatomSizeReduction',\n",
       " 'ProximalPhalanxOutlineAgeGroup',\n",
       " 'Cricket_Y',\n",
       " 'Coffee',\n",
       " 'DistalPhalanxOutlineAgeGroup',\n",
       " 'SonyAIBORobotSurface',\n",
       " 'Meat',\n",
       " 'FordA',\n",
       " 'OSULeaf',\n",
       " 'yoga',\n",
       " 'Earthquakes',\n",
       " 'Cricket',\n",
       " 'ElectricDevices',\n",
       " 'FISH',\n",
       " 'SwedishLeaf',\n",
       " 'Beef']"
      ]
     },
     "execution_count": 4,
     "metadata": {},
     "output_type": "execute_result"
    }
   ],
   "source": [
    "import os \n",
    "[ds for ds in os.listdir(ds_dir)]"
   ]
  },
  {
   "cell_type": "code",
   "execution_count": null,
   "metadata": {},
   "outputs": [],
   "source": []
  }
 ],
 "metadata": {
  "kernelspec": {
   "display_name": "Python 3",
   "language": "python",
   "name": "python3"
  },
  "language_info": {
   "codemirror_mode": {
    "name": "ipython",
    "version": 3
   },
   "file_extension": ".py",
   "mimetype": "text/x-python",
   "name": "python",
   "nbconvert_exporter": "python",
   "pygments_lexer": "ipython3",
   "version": "3.7.5"
  }
 },
 "nbformat": 4,
 "nbformat_minor": 2
}
