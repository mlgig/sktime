{
 "cells": [
  {
   "cell_type": "code",
   "execution_count": 11,
   "metadata": {},
   "outputs": [],
   "source": [
    "from sktime.datasets import load_gunpoint\n",
    "from sktime.classifiers.shapelet_based import MrSQMClassifier\n",
    "from sklearn import metrics\n",
    "import numpy as np"
   ]
  },
  {
   "cell_type": "code",
   "execution_count": 27,
   "metadata": {},
   "outputs": [],
   "source": [
    "ds='MedicalImages'\n",
    "ds_dir = '/home/thachln/myworkdir/UCR_TS_Archive_2015/'\n",
    "# ds_dir = '/home/thachln/myworkdir/Mr-SEQL/data/CMJ/'\n",
    "\n",
    "train_file = ds_dir + ds + '/' + ds + '_TRAIN' \n",
    "test_file = ds_dir + ds + '/' + ds + '_TEST' \n",
    "\n",
    "# load train data\n",
    "train_data = np.genfromtxt(train_file,delimiter=',')\n",
    "X_train = train_data[:,1:]\n",
    "y_train = train_data[:,0]\n",
    "\n",
    "test_data = np.genfromtxt(test_file,delimiter=',')\n",
    "X_test = test_data[:,1:]\n",
    "y_test = test_data[:,0]\n"
   ]
  },
  {
   "cell_type": "code",
   "execution_count": 28,
   "metadata": {},
   "outputs": [
    {
     "data": {
      "text/plain": [
       "0.5144736842105263"
      ]
     },
     "execution_count": 28,
     "metadata": {},
     "output_type": "execute_result"
    }
   ],
   "source": [
    "counts = np.unique(y_test,return_counts = True)[1]\n",
    "counts.max()/counts.sum()"
   ]
  },
  {
   "cell_type": "code",
   "execution_count": 4,
   "metadata": {},
   "outputs": [
    {
     "name": "stdout",
     "output_type": "stream",
     "text": [
      "Accuracy with mr-sqm: 0.616\n"
     ]
    }
   ],
   "source": [
    "# Create mrseql object\n",
    "# ms = MrSQMClassifier(selection = 40,symrepconfig = [{'method':'sax','window':60,'word':16,'alphabet':4}])\n",
    "ms = MrSQMClassifier(selection = 1000)\n",
    "\n",
    "# fit training data\n",
    "ms.fit(X_train,y_train)\n",
    "\n",
    "\n",
    "# prediction\n",
    "predicted = ms.predict(X_test)\n",
    "\n",
    "# Classification accuracy\n",
    "print(\"Accuracy with mr-sqm: %2.3f\" % metrics.accuracy_score(y_test, predicted))"
   ]
  },
  {
   "cell_type": "code",
   "execution_count": 6,
   "metadata": {},
   "outputs": [
    {
     "data": {
      "text/plain": [
       "<matplotlib.axes._subplots.AxesSubplot at 0x7f1fece13750>"
      ]
     },
     "execution_count": 6,
     "metadata": {},
     "output_type": "execute_result"
    },
    {
     "data": {
      "image/png": "[encoded data removed]",
      "text/plain": [
       "<Figure size 720x504 with 2 Axes>"
      ]
     },
     "metadata": {
      "needs_background": "light"
     },
     "output_type": "display_data"
    }
   ],
   "source": [
    "import seaborn as sn\n",
    "import pandas as pd\n",
    "import matplotlib.pyplot as plt\n",
    "\n",
    "df_cm = pd.DataFrame(metrics.confusion_matrix(y_test, predicted), index = [i for i in ms.classes_],\n",
    "                  columns = [i for i in ms.classes_])\n",
    "plt.figure(figsize = (10,7))\n",
    "sn.heatmap(df_cm, annot=True)"
   ]
  },
  {
   "cell_type": "code",
   "execution_count": 9,
   "metadata": {},
   "outputs": [
    {
     "data": {
      "text/plain": [
       "array([[ 47,   0,   0,   0,   0,   0,   0,   0,   4,  26],\n",
       "       [  1,  14,  11,   2,   0,   1,   6,   0,   1,  14],\n",
       "       [  2,   7,  27,   1,   0,   0,   0,   0,   3,  10],\n",
       "       [  0,   6,   3,   9,   0,   0,   1,   0,   1,  12],\n",
       "       [  0,   2,   0,   0,  21,   0,   7,   0,   1,   4],\n",
       "       [  1,   0,   0,   0,   0,   2,   3,   0,   0,  10],\n",
       "       [  1,   2,   0,   0,   0,   1,  20,   0,   0,   7],\n",
       "       [  2,   0,   0,   0,   0,   0,   0,   1,   6,   9],\n",
       "       [  9,   0,   0,   0,   0,   0,   0,   0,  25,  26],\n",
       "       [ 25,   4,   0,   1,   6,   0,   2,   0,  51, 302]])"
      ]
     },
     "execution_count": 9,
     "metadata": {},
     "output_type": "execute_result"
    }
   ],
   "source": [
    "metrics.confusion_matrix(y_test, predicted)"
   ]
  },
  {
   "cell_type": "markdown",
   "metadata": {},
   "source": [
    "Mr-SQM vs Mr-SEQL"
   ]
  },
  {
   "cell_type": "code",
   "execution_count": null,
   "metadata": {},
   "outputs": [],
   "source": [
    "import pandas as pd\n",
    "\n"
   ]
  },
  {
   "cell_type": "code",
   "execution_count": null,
   "metadata": {},
   "outputs": [],
   "source": [
    "sqm_df = pd.read_csv('~/myworkdir/csv/mr_sqm_exp2.csv').round(decimals=3)\n",
    "seql_df = pd.read_csv('~/myworkdir/csv/UCR_mrseql_results.csv')\n",
    "full_df = pd.merge(sqm_df, seql_df, on='Dataset')"
   ]
  },
  {
   "cell_type": "code",
   "execution_count": null,
   "metadata": {},
   "outputs": [],
   "source": [
    "import os\n",
    "rootdir = '/home/thachln/myworkdir/UCR_TS_Archive_2015/'\n",
    "\n",
    "for ds in os.listdir(rootdir):\n",
    "    data = np.genfromtxt(rootdir + ds + '/' + ds + '_TRAIN', delimiter=',')\n",
    "    y = data[:,0]\n",
    "    n = len(y)\n",
    "    H = 0\n",
    "    for ci in np.unique(y):        \n",
    "        p = np.sum(y == ci)/n\n",
    "        H += p*np.log(p)\n",
    "    bl = -H/np.log(len(np.unique(y)))\n",
    "    print(ds + ',' + str(bl))\n",
    "    \n",
    "    "
   ]
  },
  {
   "cell_type": "code",
   "execution_count": null,
   "metadata": {},
   "outputs": [],
   "source": [
    "full_df[full_df['Dataset'] == 'Beef']"
   ]
  },
  {
   "cell_type": "code",
   "execution_count": null,
   "metadata": {},
   "outputs": [],
   "source": [
    "y"
   ]
  },
  {
   "cell_type": "code",
   "execution_count": null,
   "metadata": {},
   "outputs": [],
   "source": [
    "def chi2(ob1,ob2):   \n",
    "    ep1 = (ob1 + ob2)*0.4\n",
    "    ep2 = (ob1 + ob2)*0.6\n",
    "    return ((ob1 - ep1)**2/ep1 + (ob2 - ep2)**2/ep2)"
   ]
  },
  {
   "cell_type": "code",
   "execution_count": null,
   "metadata": {},
   "outputs": [],
   "source": [
    "ob1 = 3\n",
    "ob2 = 2\n",
    "print(chi2(ob1,ob2))\n",
    "print(chi2(ob1,0))\n",
    "print(chi2(0,ob2))\n",
    "\n"
   ]
  },
  {
   "cell_type": "code",
   "execution_count": 4,
   "metadata": {},
   "outputs": [
    {
     "data": {
      "text/plain": [
       "['WordsSynonyms',\n",
       " 'MoteStrain',\n",
       " 'Wine',\n",
       " 'Car',\n",
       " 'Computers',\n",
       " 'Two_Patterns',\n",
       " 'StarLightCurves',\n",
       " 'SmallKitchenAppliances',\n",
       " 'FaceAll',\n",
       " 'TwoLeadECG',\n",
       " 'ECGFiveDays',\n",
       " 'InlineSkate',\n",
       " 'FacesUCR',\n",
       " '50words',\n",
       " 'ScreenType',\n",
       " 'Cricket_X',\n",
       " 'Strawberry',\n",
       " 'DistalPhalanxTW',\n",
       " 'PhalangesOutlinesCorrect',\n",
       " 'MiddlePhalanxOutlineAgeGroup',\n",
       " 'uWaveGestureLibrary_X',\n",
       " 'ToeSegmentation2',\n",
       " 'CBF',\n",
       " 'wafer',\n",
       " 'Ham',\n",
       " 'FordB',\n",
       " 'ChlorineConcentration',\n",
       " 'ProximalPhalanxOutlineCorrect',\n",
       " 'Trace',\n",
       " 'Passgraph',\n",
       " 'Lighting7',\n",
       " 'UWaveGestureLibraryAll',\n",
       " 'ProximalPhalanxTW',\n",
       " 'WormsTwoClass',\n",
       " 'ShapesAll',\n",
       " 'OliveOil',\n",
       " 'Cricket_Z',\n",
       " 'Plane',\n",
       " 'LargeKitchenAppliances',\n",
       " 'DistalPhalanxOutlineCorrect',\n",
       " 'ECG5000',\n",
       " 'synthetic_control',\n",
       " 'Phoneme',\n",
       " 'NonInvasiveFatalECG_Thorax1',\n",
       " 'ItalyPowerDemand',\n",
       " 'RefrigerationDevices',\n",
       " 'NonInvasiveFatalECG_Thorax2',\n",
       " 'InsectWingbeatSound',\n",
       " 'BeetleFly',\n",
       " 'MALLAT',\n",
       " 'BirdChicken',\n",
       " 'Symbols',\n",
       " 'ArrowHead',\n",
       " 'Adiac',\n",
       " 'CinC_ECG_torso',\n",
       " 'Lighting2',\n",
       " 'Herring',\n",
       " 'HandOutlines',\n",
       " 'Gun_Point',\n",
       " 'Worms',\n",
       " 'ShapeletSim',\n",
       " 'FaceFour',\n",
       " 'MiddlePhalanxOutlineCorrect',\n",
       " 'MedicalImages',\n",
       " 'ToeSegmentation1',\n",
       " 'ECG200',\n",
       " 'Haptics',\n",
       " 'uWaveGestureLibrary_Z',\n",
       " 'MiddlePhalanxTW',\n",
       " 'SonyAIBORobotSurfaceII',\n",
       " 'uWaveGestureLibrary_Y',\n",
       " 'DiatomSizeReduction',\n",
       " 'ProximalPhalanxOutlineAgeGroup',\n",
       " 'Cricket_Y',\n",
       " 'Coffee',\n",
       " 'DistalPhalanxOutlineAgeGroup',\n",
       " 'SonyAIBORobotSurface',\n",
       " 'Meat',\n",
       " 'FordA',\n",
       " 'OSULeaf',\n",
       " 'yoga',\n",
       " 'Earthquakes',\n",
       " 'Cricket',\n",
       " 'ElectricDevices',\n",
       " 'FISH',\n",
       " 'SwedishLeaf',\n",
       " 'Beef']"
      ]
     },
     "execution_count": 4,
     "metadata": {},
     "output_type": "execute_result"
    }
   ],
   "source": [
    "import os \n",
    "[ds for ds in os.listdir(ds_dir)]"
   ]
  },
  {
   "cell_type": "code",
   "execution_count": null,
   "metadata": {},
   "outputs": [],
   "source": []
  }
 ],
 "metadata": {
  "kernelspec": {
   "display_name": "Python 3",
   "language": "python",
   "name": "python3"
  },
  "language_info": {
   "codemirror_mode": {
    "name": "ipython",
    "version": 3
   },
   "file_extension": ".py",
   "mimetype": "text/x-python",
   "name": "python",
   "nbconvert_exporter": "python",
   "pygments_lexer": "ipython3",
   "version": "3.7.5"
  }
 },
 "nbformat": 4,
 "nbformat_minor": 2
}
